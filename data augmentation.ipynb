{
 "cells": [
  {
   "cell_type": "code",
   "execution_count": 262,
   "id": "e0bc5560-4b8e-48f3-947f-3244f57b923d",
   "metadata": {},
   "outputs": [],
   "source": [
    "import tensorflow as tf\n",
    "from tensorflow import keras\n",
    "import matplotlib.pyplot as plt\n",
    "%matplotlib inline\n",
    "import numpy as np\n",
    "import pandas as pd\n",
    "\n",
    "import cv2\n",
    "import os\n",
    "from tensorflow.keras.preprocessing import image\n",
    "from tensorflow.keras.preprocessing.image import ImageDataGenerator"
   ]
  },
  {
   "cell_type": "code",
   "execution_count": 264,
   "id": "18c082f7-a6b0-4592-acb0-1554769516e1",
   "metadata": {},
   "outputs": [],
   "source": [
    "from tensorflow.keras.preprocessing.image import img_to_array, load_img"
   ]
  },
  {
   "cell_type": "code",
   "execution_count": 266,
   "id": "2f7fbf1d-b7ff-4da3-a4c4-3669f7f4ba74",
   "metadata": {},
   "outputs": [],
   "source": [
    "fake_folder = 'myds/fake'  \n",
    "real_folder = 'myds/real'  \n",
    "output_folder = 'augmented'  \n",
    "\n",
    "os.makedirs(os.path.join(output_folder, 'fake'), exist_ok=True)\n",
    "os.makedirs(os.path.join(output_folder, 'real'), exist_ok=True)\n"
   ]
  },
  {
   "cell_type": "code",
   "execution_count": null,
   "id": "727c5392",
   "metadata": {},
   "outputs": [],
   "source": [
    "#aug params\n",
    "datagen = ImageDataGenerator(\n",
    "    rotation_range=30,       \n",
    "    width_shift_range=0.2,   \n",
    "    height_shift_range=0.1,  \n",
    "    shear_range=0.2,         #shear transformations\n",
    "    zoom_range=0.1,          \n",
    "    horizontal_flip=True,    \n",
    "    brightness_range=[0.5, 1.5],  \n",
    "    channel_shift_range=50,  \n",
    "    fill_mode='nearest'      #fill in missing pixels with the nearest value\n",
    ")"
   ]
  },
  {
   "cell_type": "code",
   "execution_count": null,
   "id": "3b89c470",
   "metadata": {},
   "outputs": [],
   "source": [
    "def augment_images(folder, output_folder, target_count):\n",
    "    images = os.listdir(folder)\n",
    "    current_count = len(images)\n",
    "    for image_name in images:\n",
    "        if current_count >= target_count:\n",
    "            break\n",
    "        image_path = os.path.join(folder, image_name)\n",
    "        img = load_img(image_path) \n",
    "        x = img_to_array(img)      \n",
    "        x = x.reshape((1,) + x.shape)  \n",
    "\n",
    "        i = 0\n",
    "        for batch in datagen.flow(x, batch_size=1, save_to_dir=output_folder, save_prefix='aug', save_format='jpeg'):\n",
    "            i += 1\n",
    "            current_count += 1\n",
    "            if i >= 5 or current_count >= target_count:  \n",
    "                break"
   ]
  },
  {
   "cell_type": "code",
   "execution_count": null,
   "id": "65f2f313",
   "metadata": {},
   "outputs": [],
   "source": [
    "target_count = 100  \n",
    "augment_images(fake_folder, os.path.join(output_folder, 'fake'), target_count)\n",
    "augment_images(real_folder, os.path.join(output_folder, 'real'), target_count)\n",
    "\n",
    "print(\"Data augmentation doneeee\")"
   ]
  },
  {
   "cell_type": "code",
   "execution_count": 268,
   "id": "d645d31f-d5ec-4012-b3df-b99e2ff35526",
   "metadata": {},
   "outputs": [],
   "source": [
    "data_train_path = \"augmented/train\""
   ]
  },
  {
   "cell_type": "code",
   "execution_count": 270,
   "id": "8f7b9f82-d3ed-4f2d-8c77-3616030c8faa",
   "metadata": {},
   "outputs": [],
   "source": [
    "img_width = 180\n",
    "img_height = 180"
   ]
  },
  {
   "cell_type": "code",
   "execution_count": 272,
   "id": "a651623b-413d-4f70-a108-78b4c6505707",
   "metadata": {},
   "outputs": [
    {
     "name": "stdout",
     "output_type": "stream",
     "text": [
      "Found 126 files belonging to 2 classes.\n"
     ]
    }
   ],
   "source": [
    "data_train = tf.keras.utils.image_dataset_from_directory(\n",
    "    data_train_path,\n",
    "    shuffle=True,\n",
    "    image_size=(img_width, img_height),\n",
    "    batch_size=32,\n",
    "    validation_split=False,\n",
    ")"
   ]
  }
 ],
 "metadata": {
  "kernelspec": {
   "display_name": "Python 3 (ipykernel)",
   "language": "python",
   "name": "python3"
  },
  "language_info": {
   "codemirror_mode": {
    "name": "ipython",
    "version": 3
   },
   "file_extension": ".py",
   "mimetype": "text/x-python",
   "name": "python",
   "nbconvert_exporter": "python",
   "pygments_lexer": "ipython3",
   "version": "3.11.7"
  }
 },
 "nbformat": 4,
 "nbformat_minor": 5
}
